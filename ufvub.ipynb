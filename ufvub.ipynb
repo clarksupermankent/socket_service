{
 "cells": [
  {
   "cell_type": "code",
   "execution_count": null,
   "id": "bed64791-e60e-44b4-a96d-4735cd0a09d9",
   "metadata": {},
   "outputs": [],
   "source": []
  }
 ],
 "metadata": {
  "kernelspec": {
   "display_name": "R",
   "language": "R",
   "name": "ir"
  },
  "language_info": {
   "codemirror_mode": "r",
   "file_extension": ".r",
   "mimetype": "text/x-r-source",
   "name": "R",
   "pygments_lexer": "r",
   "version": "4.4.2"
  }
 },
 "nbformat": 4,
 "nbformat_minor": 5
}
